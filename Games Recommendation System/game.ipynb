{
 "cells": [
  {
   "cell_type": "code",
   "execution_count": 1,
   "metadata": {},
   "outputs": [],
   "source": [
    "# Load the dataset\n",
    "# Drop rows with missing values in 'Name' and 'Genre' columns\n",
    "# Clean and preprocess the 'Name' and 'Genre' columns\n",
    "# Combine 'Name' and 'Genre' columns into a single 'tags' column\n",
    "# Use TF-IDF Vectorizer with n-grams\n",
    "# Compute the cosine similarity matrix\n",
    "# Function to recommend games based on similarity\n",
    "\n",
    "\n",
    "import pandas as pd\n",
    "import re\n",
    "import string\n",
    "from sklearn.feature_extraction.text import TfidfVectorizer\n",
    "from sklearn.metrics.pairwise import cosine_similarity\n",
    "\n",
    "\n",
    "\n"
   ]
  },
  {
   "cell_type": "code",
   "execution_count": 2,
   "metadata": {},
   "outputs": [],
   "source": [
    "games = pd.read_csv(r'C:\\\\Users\\\\ASUS\\\\Desktop\\\\Machine Learning\\\\Pratice Projects\\\\Games Recommendation System\\\\Games Dataset\\\\Video_Games_Sales_as_at_22_Dec_2016.csv')"
   ]
  },
  {
   "cell_type": "code",
   "execution_count": 3,
   "metadata": {},
   "outputs": [],
   "source": [
    "games = games.dropna(subset=['Name', 'Genre'])"
   ]
  },
  {
   "cell_type": "code",
   "execution_count": 4,
   "metadata": {},
   "outputs": [],
   "source": [
    "games['Name'] = games['Name'].str.lower().str.replace(f'[{re.escape(string.punctuation)}]', '', regex=True)\n",
    "games['Genre'] = games['Genre'].str.lower()"
   ]
  },
  {
   "cell_type": "code",
   "execution_count": 5,
   "metadata": {},
   "outputs": [],
   "source": [
    "games['tags'] = games['Name'] + ' ' + games['Genre']"
   ]
  },
  {
   "cell_type": "code",
   "execution_count": 6,
   "metadata": {},
   "outputs": [],
   "source": [
    "tfidf = TfidfVectorizer(max_features=5000, stop_words='english', ngram_range=(1, 2))\n",
    "tag_matrix = tfidf.fit_transform(games['tags'])"
   ]
  },
  {
   "cell_type": "code",
   "execution_count": 7,
   "metadata": {},
   "outputs": [],
   "source": [
    "similarity = cosine_similarity(tag_matrix)"
   ]
  },
  {
   "cell_type": "code",
   "execution_count": 8,
   "metadata": {},
   "outputs": [],
   "source": [
    "def recommend(game_name):\n",
    "    clean_name = re.sub(f'[{re.escape(string.punctuation)}]', '', game_name.lower())\n",
    "    \n",
    "    matching_games = games[games['Name'].str.contains(clean_name, na=False)]\n",
    "    \n",
    "    if matching_games.empty:\n",
    "        print(f\"No game found with the name '{game_name}'. Please check the name and try again.\")\n",
    "        return []\n",
    "    \n",
    "    index = matching_games.index[0]\n",
    "    similarity_scores = list(enumerate(similarity[index]))\n",
    "    similarity_scores = sorted(similarity_scores, key=lambda x: x[1], reverse=True)\n",
    "    recommended_games = [games.iloc[i[0]].Name for i in similarity_scores[1:6]]\n",
    "    \n",
    "    return recommended_games\n"
   ]
  },
  {
   "cell_type": "code",
   "execution_count": 9,
   "metadata": {},
   "outputs": [
    {
     "name": "stdout",
     "output_type": "stream",
     "text": [
      "['call of duty modern warfare 2', 'call of duty modern warfare 3', 'call of duty modern warfare 2', 'call of duty 4 modern warfare', 'call of duty 4 modern warfare']\n"
     ]
    }
   ],
   "source": [
    "print(recommend('call of duty modern warfare 3'))\n"
   ]
  }
 ],
 "metadata": {
  "kernelspec": {
   "display_name": "base",
   "language": "python",
   "name": "python3"
  },
  "language_info": {
   "codemirror_mode": {
    "name": "ipython",
    "version": 3
   },
   "file_extension": ".py",
   "mimetype": "text/x-python",
   "name": "python",
   "nbconvert_exporter": "python",
   "pygments_lexer": "ipython3",
   "version": "3.8.5"
  }
 },
 "nbformat": 4,
 "nbformat_minor": 2
}
